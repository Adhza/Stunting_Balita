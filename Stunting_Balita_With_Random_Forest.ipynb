{
  "nbformat": 4,
  "nbformat_minor": 0,
  "metadata": {
    "colab": {
      "provenance": []
    },
    "kernelspec": {
      "display_name": "Python 3",
      "name": "python3"
    }
  },
  "cells": [
    {
      "cell_type": "code",
      "metadata": {
        "id": "OGyTCuBXnWhe"
      },
      "source": [
        "import pandas as pd\n",
        "import numpy as np"
      ],
      "execution_count": null,
      "outputs": []
    },
    {
      "cell_type": "code",
      "metadata": {
        "colab": {
          "resources": {
            "http://localhost:8080/nbextensions/google.colab/files.js": {
              "data": "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",
              "ok": true,
              "headers": [
                [
                  "content-type",
                  "application/javascript"
                ]
              ],
              "status": 200,
              "status_text": ""
            }
          },
          "base_uri": "https://localhost:8080/",
          "height": 73
        },
        "id": "Ue8ewhB4ngNh",
        "outputId": "6ba08ea6-1b08-447f-c0d6-8eb628c1678c"
      },
      "source": [
        "from google.colab import files\n",
        "\n",
        "uploaded = files.upload()\n",
        "\n",
        "dataraw_file = list(uploaded.keys())[0]\n"
      ],
      "execution_count": null,
      "outputs": [
        {
          "output_type": "display_data",
          "data": {
            "text/html": [
              "\n",
              "     <input type=\"file\" id=\"files-c5921f1c-d071-45fd-ae18-8c9931a11799\" name=\"files[]\" multiple disabled\n",
              "        style=\"border:none\" />\n",
              "     <output id=\"result-c5921f1c-d071-45fd-ae18-8c9931a11799\">\n",
              "      Upload widget is only available when the cell has been executed in the\n",
              "      current browser session. Please rerun this cell to enable.\n",
              "      </output>\n",
              "      <script src=\"/nbextensions/google.colab/files.js\"></script> "
            ],
            "text/plain": [
              "<IPython.core.display.HTML object>"
            ]
          },
          "metadata": {
            "tags": []
          }
        },
        {
          "output_type": "stream",
          "text": [
            "Saving Dataa.csv to Dataa.csv\n"
          ],
          "name": "stdout"
        }
      ]
    },
    {
      "cell_type": "code",
      "metadata": {
        "colab": {
          "base_uri": "https://localhost:8080/",
          "height": 793
        },
        "id": "GudA5SFco5rj",
        "outputId": "78f26389-c63a-4c12-d8c5-48f5fd7d4082"
      },
      "source": [
        "response_data = pd.read_csv('Dataa.csv')\n",
        "response_data"
      ],
      "execution_count": null,
      "outputs": [
        {
          "output_type": "execute_result",
          "data": {
            "text/html": [
              "<div>\n",
              "<style scoped>\n",
              "    .dataframe tbody tr th:only-of-type {\n",
              "        vertical-align: middle;\n",
              "    }\n",
              "\n",
              "    .dataframe tbody tr th {\n",
              "        vertical-align: top;\n",
              "    }\n",
              "\n",
              "    .dataframe thead th {\n",
              "        text-align: right;\n",
              "    }\n",
              "</style>\n",
              "<table border=\"1\" class=\"dataframe\">\n",
              "  <thead>\n",
              "    <tr style=\"text-align: right;\">\n",
              "      <th></th>\n",
              "      <th>Timestamp</th>\n",
              "      <th>Email Address</th>\n",
              "      <th>Jenis Kelamin Anak</th>\n",
              "      <th>Berat Badan Lahir Anak (isi dalam kg)</th>\n",
              "      <th>Tinggi Badan Lahir Anak (isi dalam cm)</th>\n",
              "      <th>Berat Badan Anak sekarang (isi dalam kg)</th>\n",
              "      <th>Tinggi Badan Anak sekarang (isi dalam cm)</th>\n",
              "      <th>Pendidikan Terakhir Ayah</th>\n",
              "      <th>Pendidikan Terakhir Ibu</th>\n",
              "      <th>Tinggi Ibu (perkiraan dalam cm)</th>\n",
              "      <th>Tinggi Ayah (perkiraan dalam cm)</th>\n",
              "      <th>Jumlah anggota keluarga</th>\n",
              "      <th>Perkiraan pendapatan dalam satu bulan</th>\n",
              "      <th>PENGASUHAN</th>\n",
              "      <th>GIZI</th>\n",
              "      <th>KEBERSIHAN</th>\n",
              "      <th>KEBERSIHAN BALITA</th>\n",
              "      <th>Berapa kali pemeriksaan kehamilan</th>\n",
              "      <th>Tempat persalinan</th>\n",
              "      <th>Anak pernah mengalami ISPA (Infeksi Saluran Pernapasan Akut) seperti batuk. pilek. sinus. dsb?</th>\n",
              "      <th>Anak pernah mengalami diare?</th>\n",
              "      <th>Berapa kali frekuensi anak diare dalam setahun? (jawab dalam angka)</th>\n",
              "      <th>Apakah anak batuk dalam 3 bulan terakhir?</th>\n",
              "      <th>Label</th>\n",
              "    </tr>\n",
              "  </thead>\n",
              "  <tbody>\n",
              "    <tr>\n",
              "      <th>0</th>\n",
              "      <td>7/4/2020 212646</td>\n",
              "      <td>agungkurniawan16@studentuisiacid</td>\n",
              "      <td>0</td>\n",
              "      <td>3.0</td>\n",
              "      <td>49.541667</td>\n",
              "      <td>40.0</td>\n",
              "      <td>150.000000</td>\n",
              "      <td>3</td>\n",
              "      <td>4</td>\n",
              "      <td>156</td>\n",
              "      <td>173</td>\n",
              "      <td>4</td>\n",
              "      <td>20000000</td>\n",
              "      <td>39.714286</td>\n",
              "      <td>70</td>\n",
              "      <td>170</td>\n",
              "      <td>40</td>\n",
              "      <td>1</td>\n",
              "      <td>0</td>\n",
              "      <td>0</td>\n",
              "      <td>0</td>\n",
              "      <td>0</td>\n",
              "      <td>0</td>\n",
              "      <td>0</td>\n",
              "    </tr>\n",
              "    <tr>\n",
              "      <th>1</th>\n",
              "      <td>7/8/2020 112705</td>\n",
              "      <td>annisadewilestari55@gmailcom</td>\n",
              "      <td>1</td>\n",
              "      <td>3.5</td>\n",
              "      <td>50.000000</td>\n",
              "      <td>13.0</td>\n",
              "      <td>86.000000</td>\n",
              "      <td>3</td>\n",
              "      <td>3</td>\n",
              "      <td>159</td>\n",
              "      <td>168</td>\n",
              "      <td>2</td>\n",
              "      <td>15000000</td>\n",
              "      <td>48.285714</td>\n",
              "      <td>60</td>\n",
              "      <td>140</td>\n",
              "      <td>30</td>\n",
              "      <td>1</td>\n",
              "      <td>0</td>\n",
              "      <td>0</td>\n",
              "      <td>0</td>\n",
              "      <td>0</td>\n",
              "      <td>0</td>\n",
              "      <td>0</td>\n",
              "    </tr>\n",
              "    <tr>\n",
              "      <th>2</th>\n",
              "      <td>7/8/2020 114242</td>\n",
              "      <td>eliza_nesdya@yahoocom</td>\n",
              "      <td>1</td>\n",
              "      <td>3.1</td>\n",
              "      <td>51.000000</td>\n",
              "      <td>14.0</td>\n",
              "      <td>91.000000</td>\n",
              "      <td>3</td>\n",
              "      <td>3</td>\n",
              "      <td>166</td>\n",
              "      <td>165</td>\n",
              "      <td>5</td>\n",
              "      <td>15000000</td>\n",
              "      <td>48.285714</td>\n",
              "      <td>70</td>\n",
              "      <td>150</td>\n",
              "      <td>40</td>\n",
              "      <td>1</td>\n",
              "      <td>0</td>\n",
              "      <td>1</td>\n",
              "      <td>1</td>\n",
              "      <td>1</td>\n",
              "      <td>0</td>\n",
              "      <td>0</td>\n",
              "    </tr>\n",
              "    <tr>\n",
              "      <th>3</th>\n",
              "      <td>7/8/2020 152511</td>\n",
              "      <td>deviintan65@gmailcom</td>\n",
              "      <td>1</td>\n",
              "      <td>3.0</td>\n",
              "      <td>48.879310</td>\n",
              "      <td>16.0</td>\n",
              "      <td>115.000000</td>\n",
              "      <td>3</td>\n",
              "      <td>3</td>\n",
              "      <td>163</td>\n",
              "      <td>170</td>\n",
              "      <td>4</td>\n",
              "      <td>5000000</td>\n",
              "      <td>51.714286</td>\n",
              "      <td>60</td>\n",
              "      <td>150</td>\n",
              "      <td>30</td>\n",
              "      <td>0</td>\n",
              "      <td>0</td>\n",
              "      <td>0</td>\n",
              "      <td>0</td>\n",
              "      <td>1</td>\n",
              "      <td>0</td>\n",
              "      <td>0</td>\n",
              "    </tr>\n",
              "    <tr>\n",
              "      <th>4</th>\n",
              "      <td>7/8/2020 154337</td>\n",
              "      <td>zrhsuryana@gmailcom</td>\n",
              "      <td>0</td>\n",
              "      <td>3.0</td>\n",
              "      <td>51.000000</td>\n",
              "      <td>18.0</td>\n",
              "      <td>110.000000</td>\n",
              "      <td>3</td>\n",
              "      <td>2</td>\n",
              "      <td>162</td>\n",
              "      <td>172</td>\n",
              "      <td>4</td>\n",
              "      <td>19000000</td>\n",
              "      <td>51.714286</td>\n",
              "      <td>60</td>\n",
              "      <td>160</td>\n",
              "      <td>40</td>\n",
              "      <td>1</td>\n",
              "      <td>0</td>\n",
              "      <td>1</td>\n",
              "      <td>1</td>\n",
              "      <td>1</td>\n",
              "      <td>0</td>\n",
              "      <td>0</td>\n",
              "    </tr>\n",
              "    <tr>\n",
              "      <th>...</th>\n",
              "      <td>...</td>\n",
              "      <td>...</td>\n",
              "      <td>...</td>\n",
              "      <td>...</td>\n",
              "      <td>...</td>\n",
              "      <td>...</td>\n",
              "      <td>...</td>\n",
              "      <td>...</td>\n",
              "      <td>...</td>\n",
              "      <td>...</td>\n",
              "      <td>...</td>\n",
              "      <td>...</td>\n",
              "      <td>...</td>\n",
              "      <td>...</td>\n",
              "      <td>...</td>\n",
              "      <td>...</td>\n",
              "      <td>...</td>\n",
              "      <td>...</td>\n",
              "      <td>...</td>\n",
              "      <td>...</td>\n",
              "      <td>...</td>\n",
              "      <td>...</td>\n",
              "      <td>...</td>\n",
              "      <td>...</td>\n",
              "    </tr>\n",
              "    <tr>\n",
              "      <th>122</th>\n",
              "      <td>7/23/2020 184340</td>\n",
              "      <td>timordelia@gmailcom</td>\n",
              "      <td>1</td>\n",
              "      <td>2.9</td>\n",
              "      <td>48.000000</td>\n",
              "      <td>17.0</td>\n",
              "      <td>94.000000</td>\n",
              "      <td>3</td>\n",
              "      <td>2</td>\n",
              "      <td>152</td>\n",
              "      <td>160</td>\n",
              "      <td>3</td>\n",
              "      <td>3000000</td>\n",
              "      <td>18.285714</td>\n",
              "      <td>60</td>\n",
              "      <td>170</td>\n",
              "      <td>40</td>\n",
              "      <td>2</td>\n",
              "      <td>0</td>\n",
              "      <td>1</td>\n",
              "      <td>1</td>\n",
              "      <td>0</td>\n",
              "      <td>1</td>\n",
              "      <td>0</td>\n",
              "    </tr>\n",
              "    <tr>\n",
              "      <th>123</th>\n",
              "      <td>7/23/2020 185434</td>\n",
              "      <td>hanasyifa10@gmailcom</td>\n",
              "      <td>1</td>\n",
              "      <td>3.1</td>\n",
              "      <td>47.000000</td>\n",
              "      <td>15.5</td>\n",
              "      <td>105.000000</td>\n",
              "      <td>3</td>\n",
              "      <td>3</td>\n",
              "      <td>154</td>\n",
              "      <td>160</td>\n",
              "      <td>3</td>\n",
              "      <td>7000000</td>\n",
              "      <td>30.285714</td>\n",
              "      <td>60</td>\n",
              "      <td>170</td>\n",
              "      <td>40</td>\n",
              "      <td>2</td>\n",
              "      <td>0</td>\n",
              "      <td>1</td>\n",
              "      <td>1</td>\n",
              "      <td>1</td>\n",
              "      <td>0</td>\n",
              "      <td>0</td>\n",
              "    </tr>\n",
              "    <tr>\n",
              "      <th>124</th>\n",
              "      <td>7/23/2020 185907</td>\n",
              "      <td>afifahnastiti@gmailcom</td>\n",
              "      <td>0</td>\n",
              "      <td>3.4</td>\n",
              "      <td>50.000000</td>\n",
              "      <td>12.5</td>\n",
              "      <td>96.000000</td>\n",
              "      <td>2</td>\n",
              "      <td>3</td>\n",
              "      <td>155</td>\n",
              "      <td>170</td>\n",
              "      <td>4</td>\n",
              "      <td>1000000</td>\n",
              "      <td>30.857143</td>\n",
              "      <td>70</td>\n",
              "      <td>150</td>\n",
              "      <td>20</td>\n",
              "      <td>2</td>\n",
              "      <td>0</td>\n",
              "      <td>0</td>\n",
              "      <td>1</td>\n",
              "      <td>1</td>\n",
              "      <td>0</td>\n",
              "      <td>0</td>\n",
              "    </tr>\n",
              "    <tr>\n",
              "      <th>125</th>\n",
              "      <td>7/23/2020 192041</td>\n",
              "      <td>diannurfitriana@yahoocom</td>\n",
              "      <td>0</td>\n",
              "      <td>2.0</td>\n",
              "      <td>50.000000</td>\n",
              "      <td>11.0</td>\n",
              "      <td>91.666667</td>\n",
              "      <td>1</td>\n",
              "      <td>1</td>\n",
              "      <td>140</td>\n",
              "      <td>148</td>\n",
              "      <td>3</td>\n",
              "      <td>300000</td>\n",
              "      <td>38.285714</td>\n",
              "      <td>70</td>\n",
              "      <td>150</td>\n",
              "      <td>40</td>\n",
              "      <td>2</td>\n",
              "      <td>0</td>\n",
              "      <td>0</td>\n",
              "      <td>1</td>\n",
              "      <td>2</td>\n",
              "      <td>0</td>\n",
              "      <td>0</td>\n",
              "    </tr>\n",
              "    <tr>\n",
              "      <th>126</th>\n",
              "      <td>7/24/2020 160328</td>\n",
              "      <td>lustari2409@gmailcom</td>\n",
              "      <td>1</td>\n",
              "      <td>3.0</td>\n",
              "      <td>50.000000</td>\n",
              "      <td>10.0</td>\n",
              "      <td>72.000000</td>\n",
              "      <td>3</td>\n",
              "      <td>2</td>\n",
              "      <td>158</td>\n",
              "      <td>176</td>\n",
              "      <td>5</td>\n",
              "      <td>4000000</td>\n",
              "      <td>50.285714</td>\n",
              "      <td>60</td>\n",
              "      <td>160</td>\n",
              "      <td>30</td>\n",
              "      <td>2</td>\n",
              "      <td>0</td>\n",
              "      <td>1</td>\n",
              "      <td>0</td>\n",
              "      <td>1</td>\n",
              "      <td>1</td>\n",
              "      <td>0</td>\n",
              "    </tr>\n",
              "  </tbody>\n",
              "</table>\n",
              "<p>127 rows × 24 columns</p>\n",
              "</div>"
            ],
            "text/plain": [
              "            Timestamp  ... Label\n",
              "0     7/4/2020 212646  ...     0\n",
              "1     7/8/2020 112705  ...     0\n",
              "2     7/8/2020 114242  ...     0\n",
              "3     7/8/2020 152511  ...     0\n",
              "4     7/8/2020 154337  ...     0\n",
              "..                ...  ...   ...\n",
              "122  7/23/2020 184340  ...     0\n",
              "123  7/23/2020 185434  ...     0\n",
              "124  7/23/2020 185907  ...     0\n",
              "125  7/23/2020 192041  ...     0\n",
              "126  7/24/2020 160328  ...     0\n",
              "\n",
              "[127 rows x 24 columns]"
            ]
          },
          "metadata": {
            "tags": []
          },
          "execution_count": 201
        }
      ]
    },
    {
      "cell_type": "code",
      "metadata": {
        "colab": {
          "base_uri": "https://localhost:8080/"
        },
        "id": "8jLLeoJmohQk",
        "outputId": "64dfa0c0-9b78-4319-da8a-cbeb27b3a67a"
      },
      "source": [
        "response_data.dtypes"
      ],
      "execution_count": null,
      "outputs": [
        {
          "output_type": "execute_result",
          "data": {
            "text/plain": [
              "Timestamp                                                                                          object\n",
              "Email Address                                                                                      object\n",
              "Jenis Kelamin Anak                                                                                  int64\n",
              "Berat Badan Lahir Anak (isi dalam kg)                                                             float64\n",
              "Tinggi Badan Lahir Anak (isi dalam cm)                                                            float64\n",
              "Berat Badan Anak sekarang (isi dalam kg)                                                          float64\n",
              "Tinggi Badan Anak sekarang (isi dalam cm)                                                         float64\n",
              "Pendidikan Terakhir Ayah                                                                            int64\n",
              "Pendidikan Terakhir Ibu                                                                             int64\n",
              "Tinggi Ibu (perkiraan dalam cm)                                                                     int64\n",
              "Tinggi Ayah (perkiraan dalam cm)                                                                    int64\n",
              "Jumlah anggota keluarga                                                                             int64\n",
              " Perkiraan pendapatan dalam satu bulan                                                              int64\n",
              "PENGASUHAN                                                                                        float64\n",
              " GIZI                                                                                               int64\n",
              "KEBERSIHAN                                                                                          int64\n",
              "KEBERSIHAN BALITA                                                                                   int64\n",
              "Berapa kali pemeriksaan kehamilan                                                                   int64\n",
              "Tempat persalinan                                                                                   int64\n",
              "Anak pernah mengalami ISPA (Infeksi Saluran Pernapasan Akut) seperti batuk. pilek. sinus. dsb?      int64\n",
              "Anak pernah mengalami diare?                                                                        int64\n",
              "Berapa kali frekuensi anak diare dalam setahun? (jawab dalam angka)                                 int64\n",
              "Apakah anak batuk dalam 3 bulan terakhir?                                                           int64\n",
              "Label                                                                                               int64\n",
              "dtype: object"
            ]
          },
          "metadata": {
            "tags": []
          },
          "execution_count": 202
        }
      ]
    },
    {
      "cell_type": "code",
      "metadata": {
        "colab": {
          "base_uri": "https://localhost:8080/"
        },
        "id": "d3UDB4nWYhhX",
        "outputId": "d1ad5896-cee3-43c3-bf91-c93ba1930ae3"
      },
      "source": [
        "response_data = response_data.astype({'Label' : 'category'})\n",
        "response_data = response_data.astype({'Jenis Kelamin Anak' : 'category'})\n",
        "response_data = response_data.astype({'Pendidikan Terakhir Ayah' : 'category'})\n",
        "response_data = response_data.astype({'Pendidikan Terakhir Ibu': 'category'})\n",
        "response_data = response_data.astype({'Berapa kali pemeriksaan kehamilan' : 'category'})\n",
        "response_data = response_data.astype({'Tempat persalinan' : 'category'})\n",
        "response_data = response_data.astype({'Anak pernah mengalami ISPA (Infeksi Saluran Pernapasan Akut) seperti batuk. pilek. sinus. dsb?' : 'category'})\n",
        "response_data = response_data.astype({'Anak pernah mengalami diare?' : 'category'})\n",
        "response_data = response_data.astype({'Apakah anak batuk dalam 3 bulan terakhir?' : 'category'})\n",
        "response_data.dtypes"
      ],
      "execution_count": null,
      "outputs": [
        {
          "output_type": "execute_result",
          "data": {
            "text/plain": [
              "Timestamp                                                                                           object\n",
              "Email Address                                                                                       object\n",
              "Jenis Kelamin Anak                                                                                category\n",
              "Berat Badan Lahir Anak (isi dalam kg)                                                              float64\n",
              "Tinggi Badan Lahir Anak (isi dalam cm)                                                             float64\n",
              "Berat Badan Anak sekarang (isi dalam kg)                                                           float64\n",
              "Tinggi Badan Anak sekarang (isi dalam cm)                                                          float64\n",
              "Pendidikan Terakhir Ayah                                                                          category\n",
              "Pendidikan Terakhir Ibu                                                                           category\n",
              "Tinggi Ibu (perkiraan dalam cm)                                                                      int64\n",
              "Tinggi Ayah (perkiraan dalam cm)                                                                     int64\n",
              "Jumlah anggota keluarga                                                                              int64\n",
              " Perkiraan pendapatan dalam satu bulan                                                               int64\n",
              "PENGASUHAN                                                                                         float64\n",
              " GIZI                                                                                                int64\n",
              "KEBERSIHAN                                                                                           int64\n",
              "KEBERSIHAN BALITA                                                                                    int64\n",
              "Berapa kali pemeriksaan kehamilan                                                                 category\n",
              "Tempat persalinan                                                                                 category\n",
              "Anak pernah mengalami ISPA (Infeksi Saluran Pernapasan Akut) seperti batuk. pilek. sinus. dsb?    category\n",
              "Anak pernah mengalami diare?                                                                      category\n",
              "Berapa kali frekuensi anak diare dalam setahun? (jawab dalam angka)                                  int64\n",
              "Apakah anak batuk dalam 3 bulan terakhir?                                                         category\n",
              "Label                                                                                             category\n",
              "dtype: object"
            ]
          },
          "metadata": {
            "tags": []
          },
          "execution_count": 203
        }
      ]
    },
    {
      "cell_type": "code",
      "metadata": {
        "colab": {
          "base_uri": "https://localhost:8080/"
        },
        "id": "9mK743gYcRBj",
        "outputId": "906b2986-62b6-45b6-803e-b90c0b4a4a8a"
      },
      "source": [
        "response_data_clear = response_data.drop([\"Timestamp\", \"Email Address\"], axis=1)\n",
        "print(response_data_clear)"
      ],
      "execution_count": null,
      "outputs": [
        {
          "output_type": "stream",
          "text": [
            "    Jenis Kelamin Anak  ...  Label\n",
            "0                    0  ...      0\n",
            "1                    1  ...      0\n",
            "2                    1  ...      0\n",
            "3                    1  ...      0\n",
            "4                    0  ...      0\n",
            "..                 ...  ...    ...\n",
            "122                  1  ...      0\n",
            "123                  1  ...      0\n",
            "124                  0  ...      0\n",
            "125                  0  ...      0\n",
            "126                  1  ...      0\n",
            "\n",
            "[127 rows x 22 columns]\n"
          ],
          "name": "stdout"
        }
      ]
    },
    {
      "cell_type": "code",
      "metadata": {
        "id": "dAiUzxigN1bX"
      },
      "source": [
        "#Feature Selection menggunakan chi-square\n",
        "from sklearn.feature_selection import SelectKBest\n",
        "from sklearn.feature_selection import chi2\n",
        "\n",
        "x = response_data_clear.iloc[:,0:22]\n",
        "y = response_data_clear.iloc[:,-1]\n",
        "\n",
        "bestfeatures = SelectKBest(score_func=chi2, k=10)\n",
        "fit= bestfeatures.fit(x,y)\n",
        "\n",
        "dfscores = pd.DataFrame(fit.scores_)\n",
        "dfcolumns = pd.DataFrame(x.columns)\n",
        "\n",
        "featureScores = pd.concat([dfcolumns,dfscores],axis=1)\n",
        "featureScores.columns = ['Specs','Score']\n",
        "\n",
        "featureScores\n",
        "\n",
        "print(featureScores.nlargest(10, 'Score'))"
      ],
      "execution_count": null,
      "outputs": []
    },
    {
      "cell_type": "code",
      "metadata": {
        "colab": {
          "base_uri": "https://localhost:8080/",
          "height": 1000
        },
        "id": "0I7vI5QvTa9t",
        "outputId": "fbeefd06-6e0f-42be-8cc4-eae689189e44"
      },
      "source": [
        "from sklearn.feature_selection import RFE\n",
        "from sklearn.linear_model import LogisticRegression\n",
        "from sklearn.preprocessing import Normalizer\n",
        "from sklearn import preprocessing\n",
        "\n",
        "x = response_data_clear.iloc[:,0:22]\n",
        "y = response_data_clear.iloc[:,-1]\n",
        "\n",
        "model = LogisticRegression(solver='lbfgs')\n",
        "rfe = RFE(model, 3)\n",
        "fit = rfe.fit(x, y)\n",
        "\n",
        "dfscores = pd.DataFrame(fit.ranking_)\n",
        "dfcolumns = pd.DataFrame(x.columns)\n",
        "\n",
        "featureScores = pd.concat([dfcolumns,dfscores],axis=1)\n",
        "featureScores.columns = ['Specs','Score']\n",
        "\n",
        "featureScores\n",
        "#print(featureScores.nlargest(10, 'Score'))"
      ],
      "execution_count": null,
      "outputs": [
        {
          "output_type": "stream",
          "text": [
            "/usr/local/lib/python3.6/dist-packages/sklearn/linear_model/_logistic.py:940: ConvergenceWarning: lbfgs failed to converge (status=1):\n",
            "STOP: TOTAL NO. of ITERATIONS REACHED LIMIT.\n",
            "\n",
            "Increase the number of iterations (max_iter) or scale the data as shown in:\n",
            "    https://scikit-learn.org/stable/modules/preprocessing.html\n",
            "Please also refer to the documentation for alternative solver options:\n",
            "    https://scikit-learn.org/stable/modules/linear_model.html#logistic-regression\n",
            "  extra_warning_msg=_LOGISTIC_SOLVER_CONVERGENCE_MSG)\n",
            "/usr/local/lib/python3.6/dist-packages/sklearn/linear_model/_logistic.py:940: ConvergenceWarning: lbfgs failed to converge (status=1):\n",
            "STOP: TOTAL NO. of ITERATIONS REACHED LIMIT.\n",
            "\n",
            "Increase the number of iterations (max_iter) or scale the data as shown in:\n",
            "    https://scikit-learn.org/stable/modules/preprocessing.html\n",
            "Please also refer to the documentation for alternative solver options:\n",
            "    https://scikit-learn.org/stable/modules/linear_model.html#logistic-regression\n",
            "  extra_warning_msg=_LOGISTIC_SOLVER_CONVERGENCE_MSG)\n",
            "/usr/local/lib/python3.6/dist-packages/sklearn/linear_model/_logistic.py:940: ConvergenceWarning: lbfgs failed to converge (status=1):\n",
            "STOP: TOTAL NO. of ITERATIONS REACHED LIMIT.\n",
            "\n",
            "Increase the number of iterations (max_iter) or scale the data as shown in:\n",
            "    https://scikit-learn.org/stable/modules/preprocessing.html\n",
            "Please also refer to the documentation for alternative solver options:\n",
            "    https://scikit-learn.org/stable/modules/linear_model.html#logistic-regression\n",
            "  extra_warning_msg=_LOGISTIC_SOLVER_CONVERGENCE_MSG)\n",
            "/usr/local/lib/python3.6/dist-packages/sklearn/linear_model/_logistic.py:940: ConvergenceWarning: lbfgs failed to converge (status=1):\n",
            "STOP: TOTAL NO. of ITERATIONS REACHED LIMIT.\n",
            "\n",
            "Increase the number of iterations (max_iter) or scale the data as shown in:\n",
            "    https://scikit-learn.org/stable/modules/preprocessing.html\n",
            "Please also refer to the documentation for alternative solver options:\n",
            "    https://scikit-learn.org/stable/modules/linear_model.html#logistic-regression\n",
            "  extra_warning_msg=_LOGISTIC_SOLVER_CONVERGENCE_MSG)\n",
            "/usr/local/lib/python3.6/dist-packages/sklearn/linear_model/_logistic.py:940: ConvergenceWarning: lbfgs failed to converge (status=1):\n",
            "STOP: TOTAL NO. of ITERATIONS REACHED LIMIT.\n",
            "\n",
            "Increase the number of iterations (max_iter) or scale the data as shown in:\n",
            "    https://scikit-learn.org/stable/modules/preprocessing.html\n",
            "Please also refer to the documentation for alternative solver options:\n",
            "    https://scikit-learn.org/stable/modules/linear_model.html#logistic-regression\n",
            "  extra_warning_msg=_LOGISTIC_SOLVER_CONVERGENCE_MSG)\n",
            "/usr/local/lib/python3.6/dist-packages/sklearn/linear_model/_logistic.py:940: ConvergenceWarning: lbfgs failed to converge (status=1):\n",
            "STOP: TOTAL NO. of ITERATIONS REACHED LIMIT.\n",
            "\n",
            "Increase the number of iterations (max_iter) or scale the data as shown in:\n",
            "    https://scikit-learn.org/stable/modules/preprocessing.html\n",
            "Please also refer to the documentation for alternative solver options:\n",
            "    https://scikit-learn.org/stable/modules/linear_model.html#logistic-regression\n",
            "  extra_warning_msg=_LOGISTIC_SOLVER_CONVERGENCE_MSG)\n",
            "/usr/local/lib/python3.6/dist-packages/sklearn/linear_model/_logistic.py:940: ConvergenceWarning: lbfgs failed to converge (status=1):\n",
            "STOP: TOTAL NO. of ITERATIONS REACHED LIMIT.\n",
            "\n",
            "Increase the number of iterations (max_iter) or scale the data as shown in:\n",
            "    https://scikit-learn.org/stable/modules/preprocessing.html\n",
            "Please also refer to the documentation for alternative solver options:\n",
            "    https://scikit-learn.org/stable/modules/linear_model.html#logistic-regression\n",
            "  extra_warning_msg=_LOGISTIC_SOLVER_CONVERGENCE_MSG)\n",
            "/usr/local/lib/python3.6/dist-packages/sklearn/linear_model/_logistic.py:940: ConvergenceWarning: lbfgs failed to converge (status=1):\n",
            "STOP: TOTAL NO. of ITERATIONS REACHED LIMIT.\n",
            "\n",
            "Increase the number of iterations (max_iter) or scale the data as shown in:\n",
            "    https://scikit-learn.org/stable/modules/preprocessing.html\n",
            "Please also refer to the documentation for alternative solver options:\n",
            "    https://scikit-learn.org/stable/modules/linear_model.html#logistic-regression\n",
            "  extra_warning_msg=_LOGISTIC_SOLVER_CONVERGENCE_MSG)\n",
            "/usr/local/lib/python3.6/dist-packages/sklearn/linear_model/_logistic.py:940: ConvergenceWarning: lbfgs failed to converge (status=1):\n",
            "STOP: TOTAL NO. of ITERATIONS REACHED LIMIT.\n",
            "\n",
            "Increase the number of iterations (max_iter) or scale the data as shown in:\n",
            "    https://scikit-learn.org/stable/modules/preprocessing.html\n",
            "Please also refer to the documentation for alternative solver options:\n",
            "    https://scikit-learn.org/stable/modules/linear_model.html#logistic-regression\n",
            "  extra_warning_msg=_LOGISTIC_SOLVER_CONVERGENCE_MSG)\n",
            "/usr/local/lib/python3.6/dist-packages/sklearn/linear_model/_logistic.py:940: ConvergenceWarning: lbfgs failed to converge (status=1):\n",
            "STOP: TOTAL NO. of ITERATIONS REACHED LIMIT.\n",
            "\n",
            "Increase the number of iterations (max_iter) or scale the data as shown in:\n",
            "    https://scikit-learn.org/stable/modules/preprocessing.html\n",
            "Please also refer to the documentation for alternative solver options:\n",
            "    https://scikit-learn.org/stable/modules/linear_model.html#logistic-regression\n",
            "  extra_warning_msg=_LOGISTIC_SOLVER_CONVERGENCE_MSG)\n",
            "/usr/local/lib/python3.6/dist-packages/sklearn/linear_model/_logistic.py:940: ConvergenceWarning: lbfgs failed to converge (status=1):\n",
            "STOP: TOTAL NO. of ITERATIONS REACHED LIMIT.\n",
            "\n",
            "Increase the number of iterations (max_iter) or scale the data as shown in:\n",
            "    https://scikit-learn.org/stable/modules/preprocessing.html\n",
            "Please also refer to the documentation for alternative solver options:\n",
            "    https://scikit-learn.org/stable/modules/linear_model.html#logistic-regression\n",
            "  extra_warning_msg=_LOGISTIC_SOLVER_CONVERGENCE_MSG)\n",
            "/usr/local/lib/python3.6/dist-packages/sklearn/linear_model/_logistic.py:940: ConvergenceWarning: lbfgs failed to converge (status=1):\n",
            "STOP: TOTAL NO. of ITERATIONS REACHED LIMIT.\n",
            "\n",
            "Increase the number of iterations (max_iter) or scale the data as shown in:\n",
            "    https://scikit-learn.org/stable/modules/preprocessing.html\n",
            "Please also refer to the documentation for alternative solver options:\n",
            "    https://scikit-learn.org/stable/modules/linear_model.html#logistic-regression\n",
            "  extra_warning_msg=_LOGISTIC_SOLVER_CONVERGENCE_MSG)\n",
            "/usr/local/lib/python3.6/dist-packages/sklearn/linear_model/_logistic.py:940: ConvergenceWarning: lbfgs failed to converge (status=1):\n",
            "STOP: TOTAL NO. of ITERATIONS REACHED LIMIT.\n",
            "\n",
            "Increase the number of iterations (max_iter) or scale the data as shown in:\n",
            "    https://scikit-learn.org/stable/modules/preprocessing.html\n",
            "Please also refer to the documentation for alternative solver options:\n",
            "    https://scikit-learn.org/stable/modules/linear_model.html#logistic-regression\n",
            "  extra_warning_msg=_LOGISTIC_SOLVER_CONVERGENCE_MSG)\n"
          ],
          "name": "stderr"
        },
        {
          "output_type": "execute_result",
          "data": {
            "text/html": [
              "<div>\n",
              "<style scoped>\n",
              "    .dataframe tbody tr th:only-of-type {\n",
              "        vertical-align: middle;\n",
              "    }\n",
              "\n",
              "    .dataframe tbody tr th {\n",
              "        vertical-align: top;\n",
              "    }\n",
              "\n",
              "    .dataframe thead th {\n",
              "        text-align: right;\n",
              "    }\n",
              "</style>\n",
              "<table border=\"1\" class=\"dataframe\">\n",
              "  <thead>\n",
              "    <tr style=\"text-align: right;\">\n",
              "      <th></th>\n",
              "      <th>Specs</th>\n",
              "      <th>Score</th>\n",
              "    </tr>\n",
              "  </thead>\n",
              "  <tbody>\n",
              "    <tr>\n",
              "      <th>0</th>\n",
              "      <td>Jenis Kelamin Anak</td>\n",
              "      <td>3</td>\n",
              "    </tr>\n",
              "    <tr>\n",
              "      <th>1</th>\n",
              "      <td>Berat Badan Lahir Anak (isi dalam kg)</td>\n",
              "      <td>9</td>\n",
              "    </tr>\n",
              "    <tr>\n",
              "      <th>2</th>\n",
              "      <td>Tinggi Badan Lahir Anak (isi dalam cm)</td>\n",
              "      <td>10</td>\n",
              "    </tr>\n",
              "    <tr>\n",
              "      <th>3</th>\n",
              "      <td>Berat Badan Anak sekarang (isi dalam kg)</td>\n",
              "      <td>16</td>\n",
              "    </tr>\n",
              "    <tr>\n",
              "      <th>4</th>\n",
              "      <td>Tinggi Badan Anak sekarang (isi dalam cm)</td>\n",
              "      <td>11</td>\n",
              "    </tr>\n",
              "    <tr>\n",
              "      <th>5</th>\n",
              "      <td>Pendidikan Terakhir Ayah</td>\n",
              "      <td>4</td>\n",
              "    </tr>\n",
              "    <tr>\n",
              "      <th>6</th>\n",
              "      <td>Pendidikan Terakhir Ibu</td>\n",
              "      <td>8</td>\n",
              "    </tr>\n",
              "    <tr>\n",
              "      <th>7</th>\n",
              "      <td>Tinggi Ibu (perkiraan dalam cm)</td>\n",
              "      <td>14</td>\n",
              "    </tr>\n",
              "    <tr>\n",
              "      <th>8</th>\n",
              "      <td>Tinggi Ayah (perkiraan dalam cm)</td>\n",
              "      <td>18</td>\n",
              "    </tr>\n",
              "    <tr>\n",
              "      <th>9</th>\n",
              "      <td>Jumlah anggota keluarga</td>\n",
              "      <td>5</td>\n",
              "    </tr>\n",
              "    <tr>\n",
              "      <th>10</th>\n",
              "      <td>Perkiraan pendapatan dalam satu bulan</td>\n",
              "      <td>19</td>\n",
              "    </tr>\n",
              "    <tr>\n",
              "      <th>11</th>\n",
              "      <td>PENGASUHAN</td>\n",
              "      <td>12</td>\n",
              "    </tr>\n",
              "    <tr>\n",
              "      <th>12</th>\n",
              "      <td>GIZI</td>\n",
              "      <td>17</td>\n",
              "    </tr>\n",
              "    <tr>\n",
              "      <th>13</th>\n",
              "      <td>KEBERSIHAN</td>\n",
              "      <td>15</td>\n",
              "    </tr>\n",
              "    <tr>\n",
              "      <th>14</th>\n",
              "      <td>KEBERSIHAN BALITA</td>\n",
              "      <td>2</td>\n",
              "    </tr>\n",
              "    <tr>\n",
              "      <th>15</th>\n",
              "      <td>Berapa kali pemeriksaan kehamilan</td>\n",
              "      <td>1</td>\n",
              "    </tr>\n",
              "    <tr>\n",
              "      <th>16</th>\n",
              "      <td>Tempat persalinan</td>\n",
              "      <td>20</td>\n",
              "    </tr>\n",
              "    <tr>\n",
              "      <th>17</th>\n",
              "      <td>Anak pernah mengalami ISPA (Infeksi Saluran Pe...</td>\n",
              "      <td>13</td>\n",
              "    </tr>\n",
              "    <tr>\n",
              "      <th>18</th>\n",
              "      <td>Anak pernah mengalami diare?</td>\n",
              "      <td>1</td>\n",
              "    </tr>\n",
              "    <tr>\n",
              "      <th>19</th>\n",
              "      <td>Berapa kali frekuensi anak diare dalam setahun...</td>\n",
              "      <td>7</td>\n",
              "    </tr>\n",
              "    <tr>\n",
              "      <th>20</th>\n",
              "      <td>Apakah anak batuk dalam 3 bulan terakhir?</td>\n",
              "      <td>6</td>\n",
              "    </tr>\n",
              "    <tr>\n",
              "      <th>21</th>\n",
              "      <td>Label</td>\n",
              "      <td>1</td>\n",
              "    </tr>\n",
              "  </tbody>\n",
              "</table>\n",
              "</div>"
            ],
            "text/plain": [
              "                                                Specs  Score\n",
              "0                                  Jenis Kelamin Anak      3\n",
              "1               Berat Badan Lahir Anak (isi dalam kg)      9\n",
              "2              Tinggi Badan Lahir Anak (isi dalam cm)     10\n",
              "3            Berat Badan Anak sekarang (isi dalam kg)     16\n",
              "4           Tinggi Badan Anak sekarang (isi dalam cm)     11\n",
              "5                            Pendidikan Terakhir Ayah      4\n",
              "6                             Pendidikan Terakhir Ibu      8\n",
              "7                     Tinggi Ibu (perkiraan dalam cm)     14\n",
              "8                    Tinggi Ayah (perkiraan dalam cm)     18\n",
              "9                             Jumlah anggota keluarga      5\n",
              "10             Perkiraan pendapatan dalam satu bulan      19\n",
              "11                                         PENGASUHAN     12\n",
              "12                                               GIZI     17\n",
              "13                                         KEBERSIHAN     15\n",
              "14                                  KEBERSIHAN BALITA      2\n",
              "15                  Berapa kali pemeriksaan kehamilan      1\n",
              "16                                  Tempat persalinan     20\n",
              "17  Anak pernah mengalami ISPA (Infeksi Saluran Pe...     13\n",
              "18                       Anak pernah mengalami diare?      1\n",
              "19  Berapa kali frekuensi anak diare dalam setahun...      7\n",
              "20          Apakah anak batuk dalam 3 bulan terakhir?      6\n",
              "21                                              Label      1"
            ]
          },
          "metadata": {
            "tags": []
          },
          "execution_count": 429
        }
      ]
    },
    {
      "cell_type": "code",
      "metadata": {
        "id": "cidddIDbcbEG"
      },
      "source": [
        "# feature selection menggunakan extra tress classifier\n",
        "from sklearn.ensemble import ExtraTreesClassifier\n",
        "import matplotlib.pyplot as plt\n",
        "\n",
        "x = response_data_clear.iloc[:,0:22]\n",
        "y = response_data_clear.iloc[:,-1]\n",
        "\n",
        "model = ExtraTreesClassifier()\n",
        "model.fit(x,y)\n",
        "\n",
        "print(model.feature_importances_)\n",
        "\n",
        "feat_importances = pd.Series(model.feature_importances_, index = x.columns)\n",
        "feat_importances.nlargest(10).plot(kind='barh')\n",
        "plt.show()"
      ],
      "execution_count": null,
      "outputs": []
    },
    {
      "cell_type": "code",
      "metadata": {
        "id": "DU7inbXwgkIF"
      },
      "source": [
        "# feature selection menggunakan information gain\n",
        "from sklearn.feature_selection import mutual_info_classif\n",
        "from sklearn.feature_selection import SelectPercentile\n",
        "\n",
        "x = response_data_clear.iloc[:,0:22]\n",
        "y = response_data_clear.iloc[:,-1]\n",
        "\n",
        "MI = mutual_info_classif(x, y)\n",
        "len(MI)\n",
        "\n",
        "MI = pd.Series(MI)\n",
        "MI.index = x.columns\n",
        "MI.sort_values (ascending = False, inplace = True)\n",
        "MI.plot.bar(figsize = (10,5))\n",
        "\n",
        "sel = SelectPercentile(mutual_info_classif, percentile=10)\n"
      ],
      "execution_count": null,
      "outputs": []
    },
    {
      "cell_type": "code",
      "metadata": {
        "colab": {
          "base_uri": "https://localhost:8080/"
        },
        "id": "beX9g3Mx8Dor",
        "outputId": "2a34e47f-4507-4cda-f8c3-8d82f12dc430"
      },
      "source": [
        "#split data training dan test\n",
        "from sklearn.model_selection import train_test_split\n",
        "\n",
        "x = response_data_clear.drop([\"Label\"], axis=1)\n",
        "feature_list = list(x.columns)\n",
        "x.head()\n",
        "\n",
        "y = response_data_clear[\"Label\"]\n",
        "y.head()\n",
        "\n",
        "x_train, x_test, y_train, y_test = train_test_split(x,y, test_size=0.4)\n",
        "print(x_train.shape)\n",
        "print(x_test.shape)"
      ],
      "execution_count": null,
      "outputs": [
        {
          "output_type": "stream",
          "text": [
            "(76, 21)\n",
            "(51, 21)\n"
          ],
          "name": "stdout"
        }
      ]
    },
    {
      "cell_type": "code",
      "metadata": {
        "id": "7UfS-9B7RKkE"
      },
      "source": [
        "#Scalling Data\n",
        "from sklearn.preprocessing import StandardScaler\n",
        "\n",
        "feature_scaler = StandardScaler()\n",
        "x_train = feature_scaler.fit_transform(x_train)\n",
        "x_test = feature_scaler.fit_transform(x_test)"
      ],
      "execution_count": null,
      "outputs": []
    },
    {
      "cell_type": "code",
      "metadata": {
        "id": "hfU0wankRObi"
      },
      "source": [
        "#Import random forest classifier\n",
        "#from sklearn.ensemble import RandomForestClassifier\n",
        "from sklearn.neighbors import KNeighborsClassifier\n",
        "#Create a Gaussian Classifier\n",
        "#clf=RandomForestClassifier(max_depth=2, random_state=0)\n",
        "clf=KNeighborsClassifier(n_neighbors=2)\n",
        "\n",
        "#Train the model using the training sets y_pred=clf.predict(X_test)\n",
        "classifier = clf.fit(x_train,y_train)\n",
        "y_pred = classifier.predict(x_test) "
      ],
      "execution_count": null,
      "outputs": []
    },
    {
      "cell_type": "code",
      "metadata": {
        "colab": {
          "base_uri": "https://localhost:8080/"
        },
        "id": "o6dDgh7JRkL4",
        "outputId": "56180d45-151d-4c11-f9a8-ffd12dd98b4d"
      },
      "source": [
        "#Import scikit-learn metrics module for accuracy calculation\n",
        "from sklearn import metrics\n",
        "from sklearn.metrics import confusion_matrix\n",
        "from sklearn.metrics import classification_report\n",
        "from sklearn.metrics import accuracy_score, precision_score, recall_score, f1_score\n",
        "\n",
        "#Model Accuracy, how often is the classifier correct?\n",
        "print(\"Accuracy:\",metrics.accuracy_score(y_test, y_pred))"
      ],
      "execution_count": null,
      "outputs": [
        {
          "output_type": "stream",
          "text": [
            "Accuracy: 0.9607843137254902\n"
          ],
          "name": "stdout"
        }
      ]
    },
    {
      "cell_type": "code",
      "metadata": {
        "colab": {
          "base_uri": "https://localhost:8080/"
        },
        "id": "C5d-gJWTSS_w",
        "outputId": "9895e477-8902-432a-b57e-2db353e1935b"
      },
      "source": [
        "from sklearn.metrics import accuracy_score, precision_score, recall_score, f1_score\n",
        "print(confusion_matrix(y_test, y_pred))\n",
        "print(y_test.shape)\n",
        "print(y_pred.shape)\n",
        "\n",
        "print\t('Accuracy\t  :',\tround(accuracy_score(y_test, y_pred)*100,2),\"%\")\n",
        "print ('Precision\t  :', round(precision_score(y_test, y_pred, average='weighted', zero_division=0)*100,2),\"%\")\n",
        "print ('Recall\t    :', round(recall_score(y_test, y_pred, average='weighted', zero_division=0)*100,2),\"%\")\n",
        "print\t('f1-score\t  :',\tround(f1_score(y_test,\ty_pred, average='weighted', zero_division=0)*100,2), \"%\")"
      ],
      "execution_count": null,
      "outputs": [
        {
          "output_type": "stream",
          "text": [
            "[[49  0]\n",
            " [ 2  0]]\n",
            "(51,)\n",
            "(51,)\n",
            "Accuracy\t  : 96.08 %\n",
            "Precision\t  : 92.31 %\n",
            "Recall\t    : 96.08 %\n",
            "f1-score\t  : 94.16 %\n"
          ],
          "name": "stdout"
        }
      ]
    },
    {
      "cell_type": "code",
      "metadata": {
        "colab": {
          "base_uri": "https://localhost:8080/"
        },
        "id": "lpsuMieHgiCo",
        "outputId": "388e5b45-73ad-4302-9696-868598cebf9b"
      },
      "source": [
        "# hypertuning paramater menggunakan  GridSearch\n",
        "from sklearn.model_selection import GridSearchCV \n",
        "from sklearn.ensemble import RandomForestClassifier\n",
        "\n",
        "param_grid = {\n",
        "  'n_estimators': [200, 500, 700], \n",
        "  'max_features': ['auto', 'sqrt', 'log2'],\n",
        "  'max_depth' : [4,5,6,7,8],\n",
        "  'criterion' :['gini', 'entropy'],\n",
        "}\n",
        "\n",
        "rfc=RandomForestClassifier(max_depth=2, random_state=0)\n",
        "CV_rfc = GridSearchCV(estimator=rfc, param_grid=param_grid, cv = 5)\n",
        "CV_rfc.fit(x_train, y_train)\n",
        "CV_rfc.best_params_"
      ],
      "execution_count": null,
      "outputs": [
        {
          "output_type": "execute_result",
          "data": {
            "text/plain": [
              "{'criterion': 'gini',\n",
              " 'max_depth': 4,\n",
              " 'max_features': 'auto',\n",
              " 'n_estimators': 200}"
            ]
          },
          "metadata": {
            "tags": []
          },
          "execution_count": 376
        }
      ]
    },
    {
      "cell_type": "code",
      "metadata": {
        "id": "peA81P2cgkxM",
        "colab": {
          "base_uri": "https://localhost:8080/"
        },
        "outputId": "b3ec6456-89e5-49af-9fe2-9a4947fe83a8"
      },
      "source": [
        "# Grid Search test best parameters\n",
        "from sklearn.metrics import classification_report\n",
        "from sklearn.metrics import confusion_matrix\n",
        "from sklearn.metrics import accuracy_score, precision_score, recall_score, f1_score\n",
        "\n",
        "CV_rfc.best_params_rfc1=RandomForestClassifier(random_state=0, criterion='gini',\tmax_depth=4, max_features='auto',\tn_estimators=\t200)\n",
        "CV_rfc.best_params_rfc1.fit(x_train, y_train) \n",
        "pred=CV_rfc.predict(x_test) \n",
        "print (pred)\n",
        "\n",
        "print (confusion_matrix(y_test, pred))\n",
        "print ('Accuracy\t:'\t,\tround(accuracy_score(y_test, pred)*100,2),\"%\")\n",
        "print ('Precision\t:', round(precision_score(y_test, pred, average='weighted', zero_division=0)*100,2),\"%\")\n",
        "print ('Recall\t:', round(recall_score(y_test, pred, average='weighted', zero_division=0)*100,2), \"%\")\n",
        "print\t('f1-score\t:',\tround(f1_score(y_test,\tpred, average='weighted', zero_division=0)*100,2), \"%\")"
      ],
      "execution_count": null,
      "outputs": [
        {
          "output_type": "stream",
          "text": [
            "[0 0 0 0 0 0 0 0 0 0 0 0 0 0 0 0 0 0 0 0 0 0 0 0 0 0 0 0 0 0 0 0 0 0 0 0 0\n",
            " 0 0 0 0 0 0 0 0 0 0 0 0 0 0]\n",
            "[[49  0]\n",
            " [ 2  0]]\n",
            "Accuracy\t: 96.08 %\n",
            "Precision\t: 92.31 %\n",
            "Recall\t: 96.08 %\n",
            "f1-score\t: 94.16 %\n"
          ],
          "name": "stdout"
        }
      ]
    },
    {
      "cell_type": "code",
      "metadata": {
        "id": "LMxiDd_Ik1G7"
      },
      "source": [
        "#split data menggunakan k-fold\n",
        "from sklearn.model_selection import KFold\n",
        "from sklearn.preprocessing import StandardScaler\n",
        "from sklearn.metrics import accuracy_score, precision_score, recall_score, f1_score\n",
        "from sklearn.neighbors import KNeighborsClassifier\n",
        "\n",
        "kf=KFold(n_splits=10, shuffle = False)\n",
        "print(kf)  #buat tau Kfold dan parameter defaultnya\n",
        "i=1        #ini gapenting, cuma buat nandain fold nya.\n",
        "\n",
        "x = response_data_clear.drop([\"Label\"], axis=1)\n",
        "y = response_data_clear[\"Label\"]\n",
        "\n",
        "feature_scaler = StandardScaler()\n",
        "x = feature_scaler.fit_transform(x)\n",
        "\n",
        "def cross_val(estimator):     \n",
        "  acc = []     \n",
        "  pcs = []     \n",
        "  rec = []\n",
        "  f1s = []\n",
        "  \n",
        "  for train_index, test_index in kf.split(x):         \n",
        "      x_train, x_test = x[train_index], x[test_index]         \n",
        "      y_train, y_test = y[train_index], y[test_index] \n",
        "\n",
        "      model = estimator.fit(x_train, y_train)         \n",
        "      y_pred = model.predict(x_test)                  \n",
        "      acc.append(accuracy_score(y_test, y_pred))         \n",
        "      pcs.append(precision_score(y_test, y_pred, average='macro', zero_division=0))                       \n",
        "      rec.append(recall_score(y_test, y_pred, average='macro', zero_division=0))\n",
        "      f1s.append(f1_score(y_test, y_pred, average='macro', zero_division=0))  \n",
        "      \n",
        "      print(metrics.classification_report(y_test, y_pred, zero_division=0))\n",
        "      print(f'confusion matrix:\\n {metrics.confusion_matrix(y_test, y_pred)}')        \n",
        "      print('================================================\\n')  \n",
        "\n",
        "  print(f'average akurasi: {np.mean(acc)}')\n",
        "  print(f'average precision: {np.mean(pcs)}')\n",
        "  print(f'average recall: {np.mean(rec)}')\n",
        "  print(f'average f1-score: {np.mean(f1s)}')  \n",
        "\n",
        "from sklearn.ensemble import RandomForestClassifier\n",
        "\n",
        "clf=KNeighborsClassifier(metric='minkowski', n_neighbors=2, weights='uniform')\n",
        "cross_val(clf)"
      ],
      "execution_count": null,
      "outputs": []
    },
    {
      "cell_type": "code",
      "metadata": {
        "id": "ibDx-AKEGJwF",
        "colab": {
          "base_uri": "https://localhost:8080/"
        },
        "outputId": "2423fdba-e6c3-49c3-d294-5b560d1d1ca1"
      },
      "source": [
        "# hypertuning paramater menggunakan  GridSearch\n",
        "from sklearn.model_selection import GridSearchCV \n",
        "from sklearn.neighbors import KNeighborsClassifier\n",
        "\n",
        "param_grid = {\n",
        "  'n_neighbors': [3, 5, 11, 19], \n",
        "  'metric': ['minkowski', 'euclidean', 'manhattan'],\n",
        "  'weights' : ['uniform', 'distance'],\n",
        "}\n",
        "\n",
        "knn = KNeighborsClassifier(n_neighbors=2)\n",
        "CV_knn = GridSearchCV(estimator=knn, param_grid=param_grid, cv = 5)\n",
        "CV_knn.fit(x_train, y_train)\n",
        "CV_knn.best_params_ "
      ],
      "execution_count": null,
      "outputs": [
        {
          "output_type": "execute_result",
          "data": {
            "text/plain": [
              "{'metric': 'minkowski', 'n_neighbors': 5, 'weights': 'uniform'}"
            ]
          },
          "metadata": {
            "tags": []
          },
          "execution_count": 388
        }
      ]
    },
    {
      "cell_type": "code",
      "metadata": {
        "colab": {
          "base_uri": "https://localhost:8080/"
        },
        "id": "q1AcxOFvJ_dJ",
        "outputId": "27b1aae7-1c7e-485b-a85f-8346e52e4142"
      },
      "source": [
        "# Grid Search test best parameters\n",
        "from sklearn.metrics import classification_report\n",
        "from sklearn.metrics import confusion_matrix\n",
        "from sklearn.metrics import accuracy_score, precision_score, recall_score, f1_score\n",
        "\n",
        "CV_knn.best_params_knn1= KNeighborsClassifier(metric='minkowski', n_neighbors=5, weights= 'uniform')\n",
        "CV_knn.best_params_knn1.fit(x_train, y_train) \n",
        "pred=CV_knn.predict(x_test) \n",
        "print (pred)\n",
        "\n",
        "print (confusion_matrix(y_test, pred))\n",
        "print ('Accuracy\t:'\t,\tround(accuracy_score(y_test, pred)*100,2),\"%\")\n",
        "print ('Precision\t:', round(precision_score(y_test, pred, average='weighted', zero_division=0)*100,2),\"%\")\n",
        "print ('Recall\t:', round(recall_score(y_test, pred, average='weighted', zero_division=0)*100,2), \"%\")\n",
        "print\t('f1-score\t:',\tround(f1_score(y_test,\tpred, average='weighted', zero_division=0)*100,2), \"%\")"
      ],
      "execution_count": null,
      "outputs": [
        {
          "output_type": "stream",
          "text": [
            "[0 0 0 0 0 0 0 0 0 0 0 0 0 0 0 0 0 0 0 0 0 0 0 0 0 0 0 0 0 0 0 0 0 0 0 0 0\n",
            " 0 0 0 0 0 0 0 0 0 0 0 0 0 0]\n",
            "[[49  0]\n",
            " [ 2  0]]\n",
            "Accuracy\t: 96.08 %\n",
            "Precision\t: 92.31 %\n",
            "Recall\t: 96.08 %\n",
            "f1-score\t: 94.16 %\n"
          ],
          "name": "stdout"
        }
      ]
    },
    {
      "cell_type": "code",
      "metadata": {
        "colab": {
          "base_uri": "https://localhost:8080/"
        },
        "id": "cL_ouhZZ850C",
        "outputId": "f7b64be7-7f3b-4e64-839e-8107f5efb5c1"
      },
      "source": [
        "# Grid Search test best parameters\n",
        "from sklearn.metrics import classification_report\n",
        "from sklearn.metrics import confusion_matrix\n",
        "from sklearn.metrics import accuracy_score, precision_score, recall_score, f1_score\n",
        "from sklearn.neighbors import KNeighborsClassifier\n",
        "\n",
        "CV_knn.best_params_knn1=KNeighborsClassifier(metric='minkowski', n_neighbors=2, weights='uniform')\n",
        "CV_knn.best_params_knn1.fit(x_train, y_train) \n",
        "pred=CV_knn.predict(x_test) \n",
        "print (pred)\n",
        "\n",
        "print (confusion_matrix(y_test, pred))\n",
        "print ('Accuracy\t:'\t,\tround(accuracy_score(y_test, pred)*100,2),\"%\")\n",
        "print ('Precision\t:', round(precision_score(y_test, pred, average='weighted')*100,2),\"%\")\n",
        "print ('Recall\t:', round(recall_score(y_test, pred, average='weighted')*100,2), \"%\")\n",
        "print\t('f1-score\t:',\tround(f1_score(y_test,\tpred, average='weighted')*100,2), \"%\")"
      ],
      "execution_count": null,
      "outputs": [
        {
          "output_type": "stream",
          "text": [
            "[0 0 0 0 0 0 0 0 0 0 0 0 0 0 0 0 0 0 0 0 0 0 0 0 0 0]\n",
            "[[25  0]\n",
            " [ 1  0]]\n",
            "Accuracy\t: 96.15 %\n",
            "Precision\t: 92.46 %\n",
            "Recall\t: 96.15 %\n",
            "f1-score\t: 94.27 %\n"
          ],
          "name": "stdout"
        },
        {
          "output_type": "stream",
          "text": [
            "/usr/local/lib/python3.6/dist-packages/sklearn/metrics/_classification.py:1272: UndefinedMetricWarning: Precision is ill-defined and being set to 0.0 in labels with no predicted samples. Use `zero_division` parameter to control this behavior.\n",
            "  _warn_prf(average, modifier, msg_start, len(result))\n"
          ],
          "name": "stderr"
        }
      ]
    },
    {
      "cell_type": "code",
      "metadata": {
        "id": "DLbnwhPT2BsO"
      },
      "source": [
        "#print(x_test.shape)\n",
        "#testing precision\n",
        "#TP = 47\n",
        "#FN = 0\n",
        "#FP = 4\n",
        "#TN = 0\n",
        "\n",
        "#precision =TP/(TP+FP)\n",
        "#precision"
      ],
      "execution_count": null,
      "outputs": []
    },
    {
      "cell_type": "code",
      "metadata": {
        "id": "tX4o678_1OXo"
      },
      "source": [
        "#load library\n",
        "import seaborn as sns\n",
        "import matplotlib.pyplot as plt\n",
        "\n",
        "CM = confusion_matrix(y_train, pred)\n",
        "plt.figure(figsize=(9,5))\n",
        "axes = sns.heatmap(CM, annot= True)\n",
        "plt.xlabel('Actual')\n",
        "plt.ylabel('Predicted Model')\n",
        "plt.title('Confusion Matrix')\n",
        "\n",
        "class_Label = ['Data Tidak Stunting','Data Stunting']\n",
        "class_prediction = ['Data Tidak Stunting','Data Stunting']\n",
        "\n",
        "tick_marks = np.arange(len(class_Label)) + 0.5\n",
        "\n",
        "axes.set_xticks(tick_marks + 0.3)\n",
        "axes.set_xticklabels(class_Label, rotation=0)\n",
        "\n",
        "axes.set_yticks(tick_marks + 0.3)\n",
        "axes.set_yticklabels(class_prediction, rotation=0)\n",
        "\n",
        "plt.show()"
      ],
      "execution_count": null,
      "outputs": []
    },
    {
      "cell_type": "code",
      "metadata": {
        "id": "vFAlS2rT6AlY"
      },
      "source": [
        "#plot tree\n",
        "# Import tools needed for visualization\n",
        "from sklearn.tree import export_graphviz\n",
        "import pydot\n",
        "\n",
        "# Pull out one tree from the forest\n",
        "tree = classifier.estimators_[10]\n",
        "\n",
        "# Import tools needed for visualization\n",
        "from sklearn.tree import export_graphviz\n",
        "import pydot\n",
        "\n",
        "tree = classifier.estimators_[10]\n",
        "\n",
        "# Export the image to a dot file\n",
        "export_graphviz(tree, out_file = 'tree.dot', feature_names = feature_list, rounded = True, precision = 1)\n",
        "\n",
        "# Use dot file to create a graph\n",
        "(graph, ) = pydot.graph_from_dot_file('tree.dot')\n",
        "# Write graph to a png file\n",
        "graph.write_png('tree.png')"
      ],
      "execution_count": null,
      "outputs": []
    }
  ]
}